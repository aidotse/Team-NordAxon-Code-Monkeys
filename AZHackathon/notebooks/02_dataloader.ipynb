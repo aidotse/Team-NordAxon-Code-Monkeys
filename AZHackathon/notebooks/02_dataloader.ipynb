{
 "cells": [
  {
   "cell_type": "code",
   "execution_count": 1,
   "metadata": {},
   "outputs": [
    {
     "ename": "ModuleNotFoundError",
     "evalue": "No module named 'torch'",
     "output_type": "error",
     "traceback": [
      "\u001b[1;31m---------------------------------------------------------------------------\u001b[0m",
      "\u001b[1;31mModuleNotFoundError\u001b[0m                       Traceback (most recent call last)",
      "\u001b[1;32m<ipython-input-1-56462668e308>\u001b[0m in \u001b[0;36m<module>\u001b[1;34m\u001b[0m\n\u001b[0;32m      5\u001b[0m \u001b[1;32mimport\u001b[0m \u001b[0mcv2\u001b[0m\u001b[1;33m\u001b[0m\u001b[1;33m\u001b[0m\u001b[0m\n\u001b[0;32m      6\u001b[0m \u001b[1;32mimport\u001b[0m \u001b[0mmatplotlib\u001b[0m\u001b[1;33m.\u001b[0m\u001b[0mpyplot\u001b[0m \u001b[1;32mas\u001b[0m \u001b[0mplt\u001b[0m\u001b[1;33m\u001b[0m\u001b[1;33m\u001b[0m\u001b[0m\n\u001b[1;32m----> 7\u001b[1;33m \u001b[1;32mfrom\u001b[0m \u001b[0mtorch\u001b[0m\u001b[1;33m.\u001b[0m\u001b[0mutils\u001b[0m\u001b[1;33m.\u001b[0m\u001b[0mdata\u001b[0m \u001b[1;32mimport\u001b[0m \u001b[0mDataset\u001b[0m\u001b[1;33m\u001b[0m\u001b[1;33m\u001b[0m\u001b[0m\n\u001b[0m",
      "\u001b[1;31mModuleNotFoundError\u001b[0m: No module named 'torch'"
     ]
    }
   ],
   "source": [
    "import os\n",
    "import glob\n",
    "\n",
    "import numpy as np\n",
    "import cv2\n",
    "import matplotlib.pyplot as plt\n",
    "from torch.utils.data import Dataset"
   ]
  },
  {
   "cell_type": "code",
   "execution_count": 2,
   "metadata": {},
   "outputs": [],
   "source": [
    "\n",
    "x = glob.glob(\"../../../Dataset/images_for_preview/images_for_preview/*/input/*\")\n",
    "y = glob.glob(\"../../../Dataset/images_for_preview/images_for_preview/*/targets/*\")"
   ]
  },
  {
   "cell_type": "code",
   "execution_count": 3,
   "metadata": {},
   "outputs": [
    {
     "name": "stdout",
     "output_type": "stream",
     "text": [
      "{'row_col': 'D04', 'field of view': 'F006', 'action_list_number': 'A01', 'z_number_3d': 'Z01', 'imaging_channel': 'C01'}\n",
      "(2154, 2554, 3)\n",
      "{'row_col': 'D04', 'field of view': 'F006', 'action_list_number': 'A02', 'z_number_3d': 'Z01', 'imaging_channel': 'C02'}\n",
      "(2154, 2554, 3)\n",
      "{'row_col': 'D04', 'field of view': 'F006', 'action_list_number': 'A03', 'z_number_3d': 'Z01', 'imaging_channel': 'C03'}\n",
      "(2154, 2554, 3)\n",
      "{'row_col': 'D04', 'field of view': 'F008', 'action_list_number': 'A01', 'z_number_3d': 'Z01', 'imaging_channel': 'C01'}\n",
      "(2156, 2556, 3)\n",
      "{'row_col': 'D04', 'field of view': 'F008', 'action_list_number': 'A02', 'z_number_3d': 'Z01', 'imaging_channel': 'C02'}\n",
      "(2156, 2556, 3)\n",
      "{'row_col': 'D04', 'field of view': 'F008', 'action_list_number': 'A03', 'z_number_3d': 'Z01', 'imaging_channel': 'C03'}\n",
      "(2156, 2556, 3)\n",
      "{'row_col': 'D04', 'field of view': 'F012', 'action_list_number': 'A01', 'z_number_3d': 'Z01', 'imaging_channel': 'C01'}\n",
      "(2156, 2556, 3)\n",
      "{'row_col': 'D04', 'field of view': 'F012', 'action_list_number': 'A02', 'z_number_3d': 'Z01', 'imaging_channel': 'C02'}\n",
      "(2156, 2556, 3)\n",
      "{'row_col': 'D04', 'field of view': 'F012', 'action_list_number': 'A03', 'z_number_3d': 'Z01', 'imaging_channel': 'C03'}\n",
      "(2156, 2556, 3)\n"
     ]
    }
   ],
   "source": [
    "def get_image_metadata(path_to_file):\n",
    "    \"\"\"\n",
    "    B02   - well (row B, column 02) \n",
    "    T0001 - timepoint (irrelevant for this dataset) \n",
    "    F001  - field of view = site \n",
    "    L01   - timeline (irrelevant for this datset) \n",
    "    A01   - action list number (3 fluorescent + 1 brightfield action) \n",
    "    Z01   - 3D z-number (slice number or vertical position) \n",
    "    C01   - imaging channel (1 nuclear, 2 lipids, 3 cytoplasm, 4 brightfield)\n",
    "    \"\"\"\n",
    "    string_arr = os.path.basename(path_to_file).split(\"_\")\n",
    "    row_col = string_arr[-2] # Row and column\n",
    "    timepoint = string_arr[-1][:5]\n",
    "    fied_of_view = string_arr[-1][5:9]\n",
    "    timeline = string_arr[-1][9:12]\n",
    "    action_list_number = string_arr[-1][12:15]\n",
    "    z_number_3d = string_arr[-1][15:18]\n",
    "    imaging_channel = string_arr[-1][18:21]\n",
    "    return {\n",
    "        \"row_col\":       row_col,\n",
    "        #\"timepoint\":     timepoint,  # apparently irrelevant\n",
    "        \"field of view\": fied_of_view,\n",
    "        #\"timeline\": timeline,  # apparently irrelevant\n",
    "        \"action_list_number\": action_list_number,\n",
    "        \"z_number_3d\": z_number_3d,\n",
    "        \"imaging_channel\": imaging_channel\n",
    "    }\n",
    "    \n",
    " \n",
    "\n",
    "class ExampleDataset(Dataset):\n",
    "    def __init__(self, input_path, target_path):\n",
    "        self.input_path = input_path\n",
    "        self.target_path = target_path\n",
    "        \n",
    "        inputs = glob.glob(self.input_path)\n",
    "        targets = glob.glob(self.target_path)\n",
    "        \n",
    "        # Group all 7 inputs with all 3 respective targets\n",
    "        input_dicts = [get_image_metadata(path) for path in inputs]\n",
    "        target_dicts = [get_image_metadata(path) for path in targets]\n",
    "        \n",
    "        \n",
    "    def __len__(self):\n",
    "        return len(self.data)\n",
    "    \n",
    "    def __getitem__(self, idx):\n",
    "        return self.data[idx]\n",
    "    \n",
    "#for y_sample in y:\n",
    "#    sample_metadata = get_image_metadata(y_sample)\n",
    "#    print(sample_metadata)\n",
    "#    print(cv2.imread(y_sample).shape)"
   ]
  },
  {
   "cell_type": "code",
   "execution_count": null,
   "metadata": {},
   "outputs": [],
   "source": []
  },
  {
   "cell_type": "code",
   "execution_count": null,
   "metadata": {},
   "outputs": [],
   "source": []
  },
  {
   "cell_type": "code",
   "execution_count": null,
   "metadata": {},
   "outputs": [],
   "source": []
  },
  {
   "cell_type": "code",
   "execution_count": null,
   "metadata": {},
   "outputs": [],
   "source": []
  }
 ],
 "metadata": {
  "kernelspec": {
   "display_name": "Python 3",
   "language": "python",
   "name": "python3"
  },
  "language_info": {
   "codemirror_mode": {
    "name": "ipython",
    "version": 3
   },
   "file_extension": ".py",
   "mimetype": "text/x-python",
   "name": "python",
   "nbconvert_exporter": "python",
   "pygments_lexer": "ipython3",
   "version": "3.8.5"
  }
 },
 "nbformat": 4,
 "nbformat_minor": 4
}
