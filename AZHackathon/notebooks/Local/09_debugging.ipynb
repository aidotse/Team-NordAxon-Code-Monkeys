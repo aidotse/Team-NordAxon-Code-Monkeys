{
 "cells": [
  {
   "cell_type": "code",
   "execution_count": 3,
   "metadata": {},
   "outputs": [],
   "source": [
    "import sys\n",
    "sys.path.insert(0, \"../../src\")\n",
    "\n",
    "\n",
    "\n",
    "import cv2\n",
    "import torch\n",
    "import numpy as np\n",
    "\n",
    "from utils.postprocessing import matching_histograms"
   ]
  },
  {
   "cell_type": "code",
   "execution_count": 4,
   "metadata": {},
   "outputs": [],
   "source": [
    "\n",
    "gen_img = \"../../data/04_generated_images/20x_images/AssayPlate_Greiner_#655090_B03_T0001F001L01A01Z01C01.tif\"\n",
    "target = \"../../data/03_training_data/normalized_bias/valid/targets/20x_images/AssayPlate_Greiner_#655090_B03_T0001F001L01A01Z01C01.tif\"\n",
    "gen_img = torch.Tensor(cv2.imread(gen_img, -1).astype(np.int))\n",
    "target = torch.Tensor(cv2.imread(target, -1).astype(np.int))"
   ]
  },
  {
   "cell_type": "code",
   "execution_count": 5,
   "metadata": {},
   "outputs": [
    {
     "name": "stdout",
     "output_type": "stream",
     "text": [
      "(2154, 2554)\n"
     ]
    },
    {
     "data": {
      "text/plain": [
       "tensor([[193.7308, 240.7484, 236.4734,  ..., 292.5996, 297.5102, 234.3516],\n",
       "        [255.8604, 269.1793, 260.2214,  ..., 287.7634, 305.0402, 295.0297],\n",
       "        [260.2214, 269.1793, 260.2214,  ..., 264.6856, 280.7080, 290.1544],\n",
       "        ...,\n",
       "        [260.2214, 269.1793, 266.9305,  ..., 535.0599, 609.8084, 462.3954],\n",
       "        [269.1793, 290.1544, 285.4042,  ..., 597.2407, 683.3456, 456.4809],\n",
       "        [223.7384, 292.5996, 295.0297,  ..., 481.2837, 474.7617, 307.6312]])"
      ]
     },
     "execution_count": 5,
     "metadata": {},
     "output_type": "execute_result"
    }
   ],
   "source": [
    "matching_histograms(gen_img, \"20x\", \"A01\")"
   ]
  },
  {
   "cell_type": "code",
   "execution_count": null,
   "metadata": {},
   "outputs": [],
   "source": []
  }
 ],
 "metadata": {
  "kernelspec": {
   "display_name": "Python 3",
   "language": "python",
   "name": "python3"
  },
  "language_info": {
   "codemirror_mode": {
    "name": "ipython",
    "version": 3
   },
   "file_extension": ".py",
   "mimetype": "text/x-python",
   "name": "python",
   "nbconvert_exporter": "python",
   "pygments_lexer": "ipython3",
   "version": "3.6.10"
  }
 },
 "nbformat": 4,
 "nbformat_minor": 4
}
