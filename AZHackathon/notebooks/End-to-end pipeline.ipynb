{
 "cells": [
  {
   "cell_type": "markdown",
   "metadata": {},
   "source": [
    "# This notebook will facilitate the end-to-end usage of the NordAxon Code Monkeys solution to the Adipocyte Imaging Challenge"
   ]
  },
  {
   "cell_type": "code",
   "execution_count": 34,
   "metadata": {},
   "outputs": [],
   "source": [
    "import sys\n",
    "sys.path.insert(0, \"../../src\")"
   ]
  },
  {
   "cell_type": "markdown",
   "metadata": {},
   "source": [
    "### We assume that you have a folder, called \"raw data dir\" in this notebook, that contains raw input brightfield images, and that you want to predict nuclei, adipocytes and lipid droplets for these images. In this notebook, the end-to-end pipeline for doing this will be described.\n",
    "\n",
    "### 1. The first step is to prepare the raw data. \n",
    "The image below shows how the pipeline looks for this. All code for this part can be found under src/prepare_training_data.py. Depending on what your file structure looks like, you will call different commands here.\n",
    "\n",
    "What will happen in this step is that you provide two filepaths, one to the raw images, and one \"middle step\" where you want to store the modified input images that we will predict on. These two paths will be used in the \"prepare_inference_dataset.py\" file, where the following will happen:\n",
    "\n",
    "<img src=\"./flows.png\" alt=\"drawing\" width=\"500\"/>\n",
    "\n",
    "This means that, after this script, you will have a folder where the raw input data is restructured to fit our prediction pipeline!"
   ]
  },
  {
   "cell_type": "markdown",
   "metadata": {},
   "source": [
    "#### We start by defining our input and output directories for this!\n",
    " Point the input_dir to your raw data dir, and your output_dir to where you want to store the training data (Note: IMPORTANT that the raw data dir contains the directory names **20x_images, 40x_images, 60x_images** see below!)"
   ]
  },
  {
   "cell_type": "code",
   "execution_count": 40,
   "metadata": {},
   "outputs": [
    {
     "name": "stdout",
     "output_type": "stream",
     "text": [
      "mkdir: cannot create directory ‘../data/01_raw/adipocyte_inference_data’: File exists\r\n"
     ]
    }
   ],
   "source": [
    "# First, copy inference data to '../data/01_raw/' directory\n",
    "path_to_your_data = \"../data/01_raw/adipocyte_raw_data/\"\n",
    "\n",
    "!mkdir '../data/01_raw/adipocyte_inference_data'\n",
    "!cp -r $path_to_your_data '../data/01_raw/adipocyte_inference_data'"
   ]
  },
  {
   "cell_type": "code",
   "execution_count": 41,
   "metadata": {},
   "outputs": [],
   "source": [
    "# Change here:\n",
    "raw_data_dir = '../data/01_raw/adipocyte_inference_data'\n",
    "prediction_data_dir = \"../data/07_inference_data/\""
   ]
  },
  {
   "cell_type": "markdown",
   "metadata": {},
   "source": [
    "#### If your file structure corresponds to the following (target and mask folders are optional):\n",
    "\n",
    "- input_dir\n",
    "    - input\n",
    "        - 20x_images\n",
    "            - img1\n",
    "            - img2\n",
    "            - ...\n",
    "        - 40x_images\n",
    "            - ...\n",
    "        - 60x_images\n",
    "            - ...\n",
    "    - target\n",
    "        - 20x_images\n",
    "        - 40x_images\n",
    "        - 60x_images\n",
    "\n",
    "or\n",
    "\n",
    "- input_dir\n",
    "    - 20x_images\n",
    "        - input\n",
    "            - img1\n",
    "            - img2\n",
    "            - ...\n",
    "        - target\n",
    "    - 40x_images\n",
    "        - ...\n",
    "    - 60x_images\n",
    "        - ...\n",
    "        \n",
    "or\n",
    "\n",
    "- input_dir\n",
    "    - 20x_images\n",
    "        - img1\n",
    "        - img2\n",
    "        - ...\n",
    "    - 40x_images\n",
    "        - ...\n",
    "    - 60x_images\n",
    "        - ...\n",
    "        \n",
    "#### you will run the cell directly below this one:"
   ]
  },
  {
   "cell_type": "code",
   "execution_count": 42,
   "metadata": {},
   "outputs": [
    {
     "name": "stdout",
     "output_type": "stream",
     "text": [
      "Namespace(input_dir='../data/01_raw/adipocyte_inference_data', output_dir='../data/07_inference_data/')\n",
      "Found 2242 .tif images in total\n",
      "100%|███████████████████████████████████████| 2242/2242 [08:22<00:00,  4.46it/s]\n"
     ]
    }
   ],
   "source": [
    "!python ../src/prepare_inference_data.py --input-dir $raw_data_dir --output-dir $prediction_data_dir"
   ]
  },
  {
   "cell_type": "markdown",
   "metadata": {},
   "source": [
    "### 2. The second step is to predict for each target\n",
    "When predicting, the pipeline differs slightly depending on the target image that we want to predict. This is because we have chosen to use masks for the A01 target (nuclei).\n",
    "In the image below, the flow is described for prediction. In the code, predictions.py will be called one time for each magnification.\n",
    "\n",
    "<img src=\"./flows2.png\" alt=\"drawing\" width=\"600\"/>\n",
    "\n",
    "What this flow chart shows is that the masks are only loaded if the target is the nuclei, i.e. A01.\n",
    "\n",
    "Now, we need to define an output path to where we want our predicted images to be! And, we want to define the path to the model weights that we want to use. Fortunately, we have done this for you, but you are free to change this if you wish."
   ]
  },
  {
   "cell_type": "code",
   "execution_count": 1,
   "metadata": {},
   "outputs": [],
   "source": [
    "weights_path_A1_mask = \"../data/05_saved_models/normalized_bias/A1_segmentation_model_2.pth\""
   ]
  },
  {
   "cell_type": "code",
   "execution_count": 2,
   "metadata": {},
   "outputs": [
    {
     "name": "stdout",
     "output_type": "stream",
     "text": [
      "Namespace(crop_size=1024, input_dir='../data/07_inference_data/input/20x_images', output_dir='../data/07_inference_data/masks/20x_images', stride=512, v2=True, weights_path='../data/05_saved_models/normalized_bias/A1_segmentation_model_2.pth')\n",
      "  0%|                                                    | 0/48 [00:00<?, ?it/s]Successfully saved to ../data/07_inference_data/masks/20x_images/AssayPlate_Greiner_#655090_D04_T0001F002L01A01Z01C01.tif\n",
      "  2%|▉                                           | 1/48 [00:07<05:59,  7.65s/it]Successfully saved to ../data/07_inference_data/masks/20x_images/AssayPlate_Greiner_#655090_B04_T0001F006L01A01Z01C01.tif\n",
      "  4%|█▊                                          | 2/48 [00:12<05:15,  6.85s/it]Successfully saved to ../data/07_inference_data/masks/20x_images/AssayPlate_Greiner_#655090_B04_T0001F004L01A01Z01C01.tif\n",
      "  6%|██▊                                         | 3/48 [00:17<04:42,  6.28s/it]Successfully saved to ../data/07_inference_data/masks/20x_images/AssayPlate_Greiner_#655090_D04_T0001F003L01A01Z01C01.tif\n",
      "  8%|███▋                                        | 4/48 [00:22<04:24,  6.00s/it]Successfully saved to ../data/07_inference_data/masks/20x_images/AssayPlate_Greiner_#655090_C02_T0001F006L01A01Z01C01.tif\n",
      " 10%|████▌                                       | 5/48 [00:27<04:02,  5.65s/it]Successfully saved to ../data/07_inference_data/masks/20x_images/AssayPlate_Greiner_#655090_C02_T0001F004L01A01Z01C01.tif\n",
      " 12%|█████▌                                      | 6/48 [00:32<03:46,  5.38s/it]Successfully saved to ../data/07_inference_data/masks/20x_images/AssayPlate_Greiner_#655090_C04_T0001F006L01A01Z01C01.tif\n",
      " 15%|██████▍                                     | 7/48 [00:37<03:39,  5.34s/it]Successfully saved to ../data/07_inference_data/masks/20x_images/AssayPlate_Greiner_#655090_C04_T0001F004L01A01Z01C01.tif\n",
      " 17%|███████▎                                    | 8/48 [00:42<03:24,  5.12s/it]Successfully saved to ../data/07_inference_data/masks/20x_images/AssayPlate_Greiner_#655090_D02_T0001F001L01A01Z01C01.tif\n",
      " 19%|████████▎                                   | 9/48 [00:47<03:19,  5.11s/it]Successfully saved to ../data/07_inference_data/masks/20x_images/AssayPlate_Greiner_#655090_D02_T0001F003L01A01Z01C01.tif\n",
      " 21%|████████▉                                  | 10/48 [00:52<03:09,  4.99s/it]Successfully saved to ../data/07_inference_data/masks/20x_images/AssayPlate_Greiner_#655090_D02_T0001F002L01A01Z01C01.tif\n",
      " 23%|█████████▊                                 | 11/48 [00:56<02:59,  4.84s/it]Successfully saved to ../data/07_inference_data/masks/20x_images/AssayPlate_Greiner_#655090_C04_T0001F005L01A01Z01C01.tif\n",
      " 25%|██████████▊                                | 12/48 [01:01<02:52,  4.78s/it]Successfully saved to ../data/07_inference_data/masks/20x_images/AssayPlate_Greiner_#655090_D04_T0001F001L01A01Z01C01.tif\n",
      " 27%|███████████▋                               | 13/48 [01:06<02:50,  4.87s/it]Successfully saved to ../data/07_inference_data/masks/20x_images/AssayPlate_Greiner_#655090_B04_T0001F005L01A01Z01C01.tif\n",
      " 29%|████████████▌                              | 14/48 [01:10<02:42,  4.79s/it]Successfully saved to ../data/07_inference_data/masks/20x_images/AssayPlate_Greiner_#655090_C02_T0001F005L01A01Z01C01.tif\n",
      " 31%|█████████████▍                             | 15/48 [01:15<02:35,  4.70s/it]Successfully saved to ../data/07_inference_data/masks/20x_images/AssayPlate_Greiner_#655090_C03_T0001F005L01A01Z01C01.tif\n",
      " 33%|██████████████▎                            | 16/48 [01:21<02:46,  5.20s/it]Successfully saved to ../data/07_inference_data/masks/20x_images/AssayPlate_Greiner_#655090_C03_T0001F006L01A01Z01C01.tif\n",
      " 35%|███████████████▏                           | 17/48 [01:29<03:02,  5.88s/it]Successfully saved to ../data/07_inference_data/masks/20x_images/AssayPlate_Greiner_#655090_C03_T0001F004L01A01Z01C01.tif\n",
      " 38%|████████████████▏                          | 18/48 [01:36<03:10,  6.34s/it]Successfully saved to ../data/07_inference_data/masks/20x_images/AssayPlate_Greiner_#655090_B03_T0001F005L01A01Z01C01.tif\n",
      " 40%|█████████████████                          | 19/48 [01:43<03:10,  6.57s/it]Successfully saved to ../data/07_inference_data/masks/20x_images/AssayPlate_Greiner_#655090_D03_T0001F001L01A01Z01C01.tif\n",
      " 42%|█████████████████▉                         | 20/48 [01:52<03:21,  7.21s/it]Successfully saved to ../data/07_inference_data/masks/20x_images/AssayPlate_Greiner_#655090_D03_T0001F003L01A01Z01C01.tif\n",
      " 44%|██████████████████▊                        | 21/48 [02:01<03:29,  7.76s/it]Successfully saved to ../data/07_inference_data/masks/20x_images/AssayPlate_Greiner_#655090_D03_T0001F002L01A01Z01C01.tif\n",
      " 46%|███████████████████▋                       | 22/48 [02:08<03:18,  7.63s/it]Successfully saved to ../data/07_inference_data/masks/20x_images/AssayPlate_Greiner_#655090_B03_T0001F006L01A01Z01C01.tif\n",
      " 48%|████████████████████▌                      | 23/48 [02:17<03:15,  7.83s/it]Successfully saved to ../data/07_inference_data/masks/20x_images/AssayPlate_Greiner_#655090_B03_T0001F004L01A01Z01C01.tif\n",
      " 50%|█████████████████████▌                     | 24/48 [02:24<03:05,  7.72s/it]Successfully saved to ../data/07_inference_data/masks/20x_images/AssayPlate_Greiner_#655090_C03_T0001F001L01A01Z01C01.tif\n",
      " 52%|██████████████████████▍                    | 25/48 [02:33<03:03,  7.98s/it]Successfully saved to ../data/07_inference_data/masks/20x_images/AssayPlate_Greiner_#655090_C03_T0001F003L01A01Z01C01.tif\n",
      " 54%|███████████████████████▎                   | 26/48 [02:40<02:50,  7.76s/it]Successfully saved to ../data/07_inference_data/masks/20x_images/AssayPlate_Greiner_#655090_D03_T0001F005L01A01Z01C01.tif\n",
      " 56%|████████████████████████▏                  | 27/48 [02:48<02:43,  7.80s/it]Successfully saved to ../data/07_inference_data/masks/20x_images/AssayPlate_Greiner_#655090_B03_T0001F001L01A01Z01C01.tif\n",
      " 58%|█████████████████████████                  | 28/48 [02:56<02:37,  7.88s/it]Successfully saved to ../data/07_inference_data/masks/20x_images/AssayPlate_Greiner_#655090_B03_T0001F003L01A01Z01C01.tif\n",
      " 60%|█████████████████████████▉                 | 29/48 [03:04<02:29,  7.84s/it]Successfully saved to ../data/07_inference_data/masks/20x_images/AssayPlate_Greiner_#655090_B03_T0001F002L01A01Z01C01.tif\n",
      " 62%|██████████████████████████▉                | 30/48 [03:11<02:15,  7.55s/it]Successfully saved to ../data/07_inference_data/masks/20x_images/AssayPlate_Greiner_#655090_D03_T0001F006L01A01Z01C01.tif\n",
      " 65%|███████████████████████████▊               | 31/48 [03:18<02:08,  7.58s/it]Successfully saved to ../data/07_inference_data/masks/20x_images/AssayPlate_Greiner_#655090_D03_T0001F004L01A01Z01C01.tif\n",
      " 67%|████████████████████████████▋              | 32/48 [03:25<01:57,  7.37s/it]Successfully saved to ../data/07_inference_data/masks/20x_images/AssayPlate_Greiner_#655090_C03_T0001F002L01A01Z01C01.tif\n",
      " 69%|█████████████████████████████▌             | 33/48 [03:32<01:49,  7.32s/it]Successfully saved to ../data/07_inference_data/masks/20x_images/AssayPlate_Greiner_#655090_B04_T0001F002L01A01Z01C01.tif\n",
      " 71%|██████████████████████████████▍            | 34/48 [03:39<01:40,  7.19s/it]Successfully saved to ../data/07_inference_data/masks/20x_images/AssayPlate_Greiner_#655090_C02_T0001F001L01A01Z01C01.tif\n",
      " 73%|███████████████████████████████▎           | 35/48 [03:47<01:34,  7.29s/it]Successfully saved to ../data/07_inference_data/masks/20x_images/AssayPlate_Greiner_#655090_C02_T0001F003L01A01Z01C01.tif\n",
      " 75%|████████████████████████████████▎          | 36/48 [03:54<01:25,  7.15s/it]Successfully saved to ../data/07_inference_data/masks/20x_images/AssayPlate_Greiner_#655090_D04_T0001F006L01A01Z01C01.tif\n",
      " 77%|█████████████████████████████████▏         | 37/48 [04:01<01:20,  7.33s/it]Successfully saved to ../data/07_inference_data/masks/20x_images/AssayPlate_Greiner_#655090_D04_T0001F004L01A01Z01C01.tif\n",
      " 79%|██████████████████████████████████         | 38/48 [04:08<01:11,  7.20s/it]Successfully saved to ../data/07_inference_data/masks/20x_images/AssayPlate_Greiner_#655090_D04_T0001F005L01A01Z01C01.tif\n"
     ]
    },
    {
     "name": "stdout",
     "output_type": "stream",
     "text": [
      " 81%|██████████████████████████████████▉        | 39/48 [04:16<01:05,  7.33s/it]Successfully saved to ../data/07_inference_data/masks/20x_images/AssayPlate_Greiner_#655090_C02_T0001F002L01A01Z01C01.tif\n",
      " 83%|███████████████████████████████████▊       | 40/48 [04:23<00:59,  7.41s/it]Successfully saved to ../data/07_inference_data/masks/20x_images/AssayPlate_Greiner_#655090_B04_T0001F001L01A01Z01C01.tif\n",
      " 85%|████████████████████████████████████▋      | 41/48 [04:31<00:52,  7.46s/it]Successfully saved to ../data/07_inference_data/masks/20x_images/AssayPlate_Greiner_#655090_B04_T0001F003L01A01Z01C01.tif\n",
      " 88%|█████████████████████████████████████▋     | 42/48 [04:38<00:44,  7.45s/it]Successfully saved to ../data/07_inference_data/masks/20x_images/AssayPlate_Greiner_#655090_C04_T0001F002L01A01Z01C01.tif\n",
      " 90%|██████████████████████████████████████▌    | 43/48 [04:47<00:38,  7.65s/it]Successfully saved to ../data/07_inference_data/masks/20x_images/AssayPlate_Greiner_#655090_D02_T0001F005L01A01Z01C01.tif\n",
      " 92%|███████████████████████████████████████▍   | 44/48 [04:55<00:31,  7.78s/it]Successfully saved to ../data/07_inference_data/masks/20x_images/AssayPlate_Greiner_#655090_D02_T0001F006L01A01Z01C01.tif\n",
      " 94%|████████████████████████████████████████▎  | 45/48 [05:03<00:23,  7.95s/it]Successfully saved to ../data/07_inference_data/masks/20x_images/AssayPlate_Greiner_#655090_D02_T0001F004L01A01Z01C01.tif\n",
      " 96%|█████████████████████████████████████████▏ | 46/48 [05:10<00:15,  7.81s/it]Successfully saved to ../data/07_inference_data/masks/20x_images/AssayPlate_Greiner_#655090_C04_T0001F001L01A01Z01C01.tif\n",
      " 98%|██████████████████████████████████████████ | 47/48 [05:18<00:07,  7.68s/it]Successfully saved to ../data/07_inference_data/masks/20x_images/AssayPlate_Greiner_#655090_C04_T0001F003L01A01Z01C01.tif\n",
      "100%|███████████████████████████████████████████| 48/48 [05:26<00:00,  6.80s/it]\n",
      "Namespace(crop_size=1024, input_dir='../data/07_inference_data/input/40x_images', output_dir='../data/07_inference_data/masks/40x_images', stride=512, v2=True, weights_path='../data/05_saved_models/normalized_bias/A1_segmentation_model_2.pth')\n",
      "  0%|                                                    | 0/64 [00:00<?, ?it/s]Successfully saved to ../data/07_inference_data/masks/40x_images/AssayPlate_Greiner_#655090_B03_T0001F008L01A01Z01C01.tif\n",
      "  2%|▋                                           | 1/64 [00:10<10:32, 10.04s/it]Successfully saved to ../data/07_inference_data/masks/40x_images/AssayPlate_Greiner_#655090_C03_T0001F008L01A01Z01C01.tif\n",
      "  3%|█▍                                          | 2/64 [00:18<09:56,  9.63s/it]Successfully saved to ../data/07_inference_data/masks/40x_images/AssayPlate_Greiner_#655090_B03_T0001F003L01A01Z01C01.tif\n",
      "  5%|██                                          | 3/64 [00:26<09:08,  9.00s/it]Successfully saved to ../data/07_inference_data/masks/40x_images/AssayPlate_Greiner_#655090_B03_T0001F001L01A01Z01C01.tif\n",
      "  6%|██▊                                         | 4/64 [00:33<08:34,  8.57s/it]Successfully saved to ../data/07_inference_data/masks/40x_images/AssayPlate_Greiner_#655090_D03_T0001F007L01A01Z01C01.tif\n",
      "  8%|███▍                                        | 5/64 [00:41<08:08,  8.28s/it]Successfully saved to ../data/07_inference_data/masks/40x_images/AssayPlate_Greiner_#655090_D03_T0001F005L01A01Z01C01.tif\n",
      "  9%|████▏                                       | 6/64 [00:49<08:02,  8.31s/it]Successfully saved to ../data/07_inference_data/masks/40x_images/AssayPlate_Greiner_#655090_D03_T0001F004L01A01Z01C01.tif\n",
      " 11%|████▊                                       | 7/64 [00:57<07:45,  8.17s/it]Successfully saved to ../data/07_inference_data/masks/40x_images/AssayPlate_Greiner_#655090_D03_T0001F006L01A01Z01C01.tif\n",
      " 12%|█████▌                                      | 8/64 [01:05<07:35,  8.13s/it]Successfully saved to ../data/07_inference_data/masks/40x_images/AssayPlate_Greiner_#655090_B03_T0001F002L01A01Z01C01.tif\n",
      " 14%|██████▏                                     | 9/64 [01:13<07:18,  7.97s/it]Successfully saved to ../data/07_inference_data/masks/40x_images/AssayPlate_Greiner_#655090_C03_T0001F003L01A01Z01C01.tif\n",
      " 16%|██████▋                                    | 10/64 [01:20<07:02,  7.83s/it]Successfully saved to ../data/07_inference_data/masks/40x_images/AssayPlate_Greiner_#655090_C03_T0001F002L01A01Z01C01.tif\n",
      " 17%|███████▍                                   | 11/64 [01:28<06:51,  7.77s/it]Successfully saved to ../data/07_inference_data/masks/40x_images/AssayPlate_Greiner_#655090_C03_T0001F001L01A01Z01C01.tif\n",
      " 19%|████████                                   | 12/64 [01:36<06:45,  7.80s/it]Successfully saved to ../data/07_inference_data/masks/40x_images/AssayPlate_Greiner_#655090_C04_T0001F008L01A01Z01C01.tif\n",
      " 20%|████████▋                                  | 13/64 [01:43<06:34,  7.74s/it]Successfully saved to ../data/07_inference_data/masks/40x_images/AssayPlate_Greiner_#655090_C02_T0001F008L01A01Z01C01.tif\n",
      " 22%|█████████▍                                 | 14/64 [01:51<06:21,  7.62s/it]Successfully saved to ../data/07_inference_data/masks/40x_images/AssayPlate_Greiner_#655090_B04_T0001F008L01A01Z01C01.tif\n",
      " 23%|██████████                                 | 15/64 [01:59<06:20,  7.77s/it]Successfully saved to ../data/07_inference_data/masks/40x_images/AssayPlate_Greiner_#655090_D02_T0001F007L01A01Z01C01.tif\n",
      " 25%|██████████▊                                | 16/64 [02:07<06:17,  7.87s/it]Successfully saved to ../data/07_inference_data/masks/40x_images/AssayPlate_Greiner_#655090_D02_T0001F005L01A01Z01C01.tif\n",
      " 27%|███████████▍                               | 17/64 [02:15<06:12,  7.93s/it]Successfully saved to ../data/07_inference_data/masks/40x_images/AssayPlate_Greiner_#655090_C04_T0001F002L01A01Z01C01.tif\n",
      " 28%|████████████                               | 18/64 [02:23<06:03,  7.90s/it]Successfully saved to ../data/07_inference_data/masks/40x_images/AssayPlate_Greiner_#655090_C04_T0001F003L01A01Z01C01.tif\n",
      " 30%|████████████▊                              | 19/64 [02:30<05:49,  7.76s/it]Successfully saved to ../data/07_inference_data/masks/40x_images/AssayPlate_Greiner_#655090_C04_T0001F001L01A01Z01C01.tif\n",
      " 31%|█████████████▍                             | 20/64 [02:38<05:35,  7.62s/it]Successfully saved to ../data/07_inference_data/masks/40x_images/AssayPlate_Greiner_#655090_D02_T0001F006L01A01Z01C01.tif\n",
      " 33%|██████████████                             | 21/64 [02:45<05:22,  7.50s/it]Successfully saved to ../data/07_inference_data/masks/40x_images/AssayPlate_Greiner_#655090_D04_T0001F004L01A01Z01C01.tif\n",
      " 34%|██████████████▊                            | 22/64 [02:52<05:16,  7.54s/it]Successfully saved to ../data/07_inference_data/masks/40x_images/AssayPlate_Greiner_#655090_D04_T0001F006L01A01Z01C01.tif\n",
      " 36%|███████████████▍                           | 23/64 [03:00<05:06,  7.47s/it]Successfully saved to ../data/07_inference_data/masks/40x_images/AssayPlate_Greiner_#655090_C02_T0001F003L01A01Z01C01.tif\n",
      " 38%|████████████████▏                          | 24/64 [03:07<04:53,  7.33s/it]Successfully saved to ../data/07_inference_data/masks/40x_images/AssayPlate_Greiner_#655090_C02_T0001F001L01A01Z01C01.tif\n",
      " 39%|████████████████▊                          | 25/64 [03:14<04:40,  7.19s/it]Successfully saved to ../data/07_inference_data/masks/40x_images/AssayPlate_Greiner_#655090_B04_T0001F002L01A01Z01C01.tif\n",
      " 41%|█████████████████▍                         | 26/64 [03:21<04:31,  7.15s/it]Successfully saved to ../data/07_inference_data/masks/40x_images/AssayPlate_Greiner_#655090_B04_T0001F003L01A01Z01C01.tif\n",
      " 42%|██████████████████▏                        | 27/64 [03:29<04:32,  7.37s/it]Successfully saved to ../data/07_inference_data/masks/40x_images/AssayPlate_Greiner_#655090_B04_T0001F001L01A01Z01C01.tif\n",
      " 44%|██████████████████▊                        | 28/64 [03:36<04:25,  7.36s/it]Successfully saved to ../data/07_inference_data/masks/40x_images/AssayPlate_Greiner_#655090_C02_T0001F002L01A01Z01C01.tif\n",
      " 45%|███████████████████▍                       | 29/64 [03:43<04:18,  7.40s/it]Successfully saved to ../data/07_inference_data/masks/40x_images/AssayPlate_Greiner_#655090_D04_T0001F007L01A01Z01C01.tif\n"
     ]
    },
    {
     "name": "stdout",
     "output_type": "stream",
     "text": [
      " 47%|████████████████████▏                      | 30/64 [03:51<04:10,  7.36s/it]Successfully saved to ../data/07_inference_data/masks/40x_images/AssayPlate_Greiner_#655090_D04_T0001F005L01A01Z01C01.tif\n",
      " 48%|████████████████████▊                      | 31/64 [03:58<04:04,  7.42s/it]Successfully saved to ../data/07_inference_data/masks/40x_images/AssayPlate_Greiner_#655090_D02_T0001F004L01A01Z01C01.tif\n",
      " 50%|█████████████████████▌                     | 32/64 [04:06<03:57,  7.41s/it]Successfully saved to ../data/07_inference_data/masks/40x_images/AssayPlate_Greiner_#655090_D02_T0001F008L01A01Z01C01.tif\n",
      " 52%|██████████████████████▏                    | 33/64 [04:14<03:55,  7.60s/it]Successfully saved to ../data/07_inference_data/masks/40x_images/AssayPlate_Greiner_#655090_D04_T0001F008L01A01Z01C01.tif\n",
      " 53%|██████████████████████▊                    | 34/64 [04:21<03:48,  7.60s/it]Successfully saved to ../data/07_inference_data/masks/40x_images/AssayPlate_Greiner_#655090_D02_T0001F003L01A01Z01C01.tif\n",
      " 55%|███████████████████████▌                   | 35/64 [04:28<03:37,  7.49s/it]Successfully saved to ../data/07_inference_data/masks/40x_images/AssayPlate_Greiner_#655090_D02_T0001F001L01A01Z01C01.tif\n",
      " 56%|████████████████████████▏                  | 36/64 [04:35<03:25,  7.35s/it]Successfully saved to ../data/07_inference_data/masks/40x_images/AssayPlate_Greiner_#655090_C04_T0001F004L01A01Z01C01.tif\n",
      " 58%|████████████████████████▊                  | 37/64 [04:43<03:18,  7.37s/it]Successfully saved to ../data/07_inference_data/masks/40x_images/AssayPlate_Greiner_#655090_C04_T0001F006L01A01Z01C01.tif\n",
      " 59%|█████████████████████████▌                 | 38/64 [04:50<03:11,  7.38s/it]Successfully saved to ../data/07_inference_data/masks/40x_images/AssayPlate_Greiner_#655090_C04_T0001F007L01A01Z01C01.tif\n",
      " 61%|██████████████████████████▏                | 39/64 [04:59<03:15,  7.83s/it]Successfully saved to ../data/07_inference_data/masks/40x_images/AssayPlate_Greiner_#655090_C04_T0001F005L01A01Z01C01.tif\n",
      " 62%|██████████████████████████▉                | 40/64 [05:06<03:03,  7.63s/it]Successfully saved to ../data/07_inference_data/masks/40x_images/AssayPlate_Greiner_#655090_D02_T0001F002L01A01Z01C01.tif\n",
      " 64%|███████████████████████████▌               | 41/64 [05:13<02:51,  7.44s/it]Successfully saved to ../data/07_inference_data/masks/40x_images/AssayPlate_Greiner_#655090_B04_T0001F004L01A01Z01C01.tif\n",
      " 66%|████████████████████████████▏              | 42/64 [05:20<02:41,  7.33s/it]Successfully saved to ../data/07_inference_data/masks/40x_images/AssayPlate_Greiner_#655090_C02_T0001F007L01A01Z01C01.tif\n",
      " 67%|████████████████████████████▉              | 43/64 [05:28<02:32,  7.26s/it]Successfully saved to ../data/07_inference_data/masks/40x_images/AssayPlate_Greiner_#655090_C02_T0001F005L01A01Z01C01.tif\n",
      " 69%|█████████████████████████████▌             | 44/64 [05:35<02:25,  7.26s/it]Successfully saved to ../data/07_inference_data/masks/40x_images/AssayPlate_Greiner_#655090_C02_T0001F004L01A01Z01C01.tif\n",
      " 70%|██████████████████████████████▏            | 45/64 [05:42<02:15,  7.15s/it]Successfully saved to ../data/07_inference_data/masks/40x_images/AssayPlate_Greiner_#655090_D04_T0001F003L01A01Z01C01.tif\n",
      " 72%|██████████████████████████████▉            | 46/64 [05:48<02:06,  7.05s/it]Successfully saved to ../data/07_inference_data/masks/40x_images/AssayPlate_Greiner_#655090_D04_T0001F001L01A01Z01C01.tif\n",
      " 73%|███████████████████████████████▌           | 47/64 [05:55<01:58,  7.00s/it]Successfully saved to ../data/07_inference_data/masks/40x_images/AssayPlate_Greiner_#655090_B04_T0001F007L01A01Z01C01.tif\n",
      " 75%|████████████████████████████████▎          | 48/64 [06:02<01:52,  7.01s/it]Successfully saved to ../data/07_inference_data/masks/40x_images/AssayPlate_Greiner_#655090_B04_T0001F005L01A01Z01C01.tif\n",
      " 77%|████████████████████████████████▉          | 49/64 [06:09<01:44,  7.00s/it]Successfully saved to ../data/07_inference_data/masks/40x_images/AssayPlate_Greiner_#655090_C02_T0001F006L01A01Z01C01.tif\n",
      " 78%|█████████████████████████████████▌         | 50/64 [06:17<01:38,  7.04s/it]Successfully saved to ../data/07_inference_data/masks/40x_images/AssayPlate_Greiner_#655090_D04_T0001F002L01A01Z01C01.tif\n",
      " 80%|██████████████████████████████████▎        | 51/64 [06:24<01:32,  7.15s/it]Successfully saved to ../data/07_inference_data/masks/40x_images/AssayPlate_Greiner_#655090_B04_T0001F006L01A01Z01C01.tif\n",
      " 81%|██████████████████████████████████▉        | 52/64 [06:31<01:26,  7.22s/it]Successfully saved to ../data/07_inference_data/masks/40x_images/AssayPlate_Greiner_#655090_D03_T0001F008L01A01Z01C01.tif\n",
      " 83%|███████████████████████████████████▌       | 53/64 [06:39<01:19,  7.22s/it]Successfully saved to ../data/07_inference_data/masks/40x_images/AssayPlate_Greiner_#655090_D03_T0001F001L01A01Z01C01.tif\n",
      " 84%|████████████████████████████████████▎      | 54/64 [06:46<01:13,  7.32s/it]Successfully saved to ../data/07_inference_data/masks/40x_images/AssayPlate_Greiner_#655090_B03_T0001F005L01A01Z01C01.tif\n",
      " 86%|████████████████████████████████████▉      | 55/64 [06:53<01:05,  7.27s/it]Successfully saved to ../data/07_inference_data/masks/40x_images/AssayPlate_Greiner_#655090_B03_T0001F004L01A01Z01C01.tif\n",
      " 88%|█████████████████████████████████████▋     | 56/64 [07:01<00:58,  7.28s/it]Successfully saved to ../data/07_inference_data/masks/40x_images/AssayPlate_Greiner_#655090_B03_T0001F006L01A01Z01C01.tif\n",
      " 89%|██████████████████████████████████████▎    | 57/64 [07:08<00:50,  7.23s/it]Successfully saved to ../data/07_inference_data/masks/40x_images/AssayPlate_Greiner_#655090_D03_T0001F002L01A01Z01C01.tif\n",
      " 91%|██████████████████████████████████████▉    | 58/64 [07:17<00:47,  7.85s/it]Successfully saved to ../data/07_inference_data/masks/40x_images/AssayPlate_Greiner_#655090_C03_T0001F007L01A01Z01C01.tif\n",
      " 92%|███████████████████████████████████████▋   | 59/64 [07:25<00:39,  7.98s/it]Successfully saved to ../data/07_inference_data/masks/40x_images/AssayPlate_Greiner_#655090_C03_T0001F005L01A01Z01C01.tif\n",
      " 94%|████████████████████████████████████████▎  | 60/64 [07:33<00:31,  7.91s/it]Successfully saved to ../data/07_inference_data/masks/40x_images/AssayPlate_Greiner_#655090_C03_T0001F004L01A01Z01C01.tif\n",
      " 95%|████████████████████████████████████████▉  | 61/64 [07:40<00:22,  7.64s/it]Successfully saved to ../data/07_inference_data/masks/40x_images/AssayPlate_Greiner_#655090_C03_T0001F006L01A01Z01C01.tif\n",
      " 97%|█████████████████████████████████████████▋ | 62/64 [07:47<00:15,  7.51s/it]Successfully saved to ../data/07_inference_data/masks/40x_images/AssayPlate_Greiner_#655090_B03_T0001F007L01A01Z01C01.tif\n",
      " 98%|██████████████████████████████████████████▎| 63/64 [07:57<00:08,  8.30s/it]Successfully saved to ../data/07_inference_data/masks/40x_images/AssayPlate_Greiner_#655090_D03_T0001F003L01A01Z01C01.tif\n",
      "100%|███████████████████████████████████████████| 64/64 [08:04<00:00,  7.58s/it]\n",
      "Namespace(crop_size=1024, input_dir='../data/07_inference_data/input/60x_images', output_dir='../data/07_inference_data/masks/60x_images', stride=512, v2=True, weights_path='../data/05_saved_models/normalized_bias/A1_segmentation_model_2.pth')\n",
      "672\n",
      "96\n",
      "  0%|                                                    | 0/96 [00:00<?, ?it/s]Successfully saved to ../data/07_inference_data/masks/60x_images/AssayPlate_Greiner_#655090_B04_T0001F009L01A01Z01C01.tif\n",
      "  1%|▍                                           | 1/96 [00:10<16:36, 10.49s/it]Successfully saved to ../data/07_inference_data/masks/60x_images/AssayPlate_Greiner_#655090_C02_T0001F008L01A01Z01C01.tif\n",
      "  2%|▉                                           | 2/96 [00:18<15:11,  9.70s/it]Successfully saved to ../data/07_inference_data/masks/60x_images/AssayPlate_Greiner_#655090_C02_T0001F009L01A01Z01C01.tif\n",
      "  3%|█▍                                          | 3/96 [00:25<13:53,  8.96s/it]Successfully saved to ../data/07_inference_data/masks/60x_images/AssayPlate_Greiner_#655090_B04_T0001F008L01A01Z01C01.tif\n",
      "  4%|█▊                                          | 4/96 [00:33<13:14,  8.63s/it]Successfully saved to ../data/07_inference_data/masks/60x_images/AssayPlate_Greiner_#655090_D03_T0001F011L01A01Z01C01.tif\n"
     ]
    },
    {
     "name": "stdout",
     "output_type": "stream",
     "text": [
      "  5%|██▎                                         | 5/96 [00:41<12:44,  8.40s/it]Successfully saved to ../data/07_inference_data/masks/60x_images/AssayPlate_Greiner_#655090_C04_T0001F008L01A01Z01C01.tif\n",
      "  6%|██▊                                         | 6/96 [00:48<12:02,  8.03s/it]Successfully saved to ../data/07_inference_data/masks/60x_images/AssayPlate_Greiner_#655090_D03_T0001F012L01A01Z01C01.tif\n",
      "  7%|███▏                                        | 7/96 [00:57<12:14,  8.26s/it]Successfully saved to ../data/07_inference_data/masks/60x_images/AssayPlate_Greiner_#655090_D03_T0001F010L01A01Z01C01.tif\n",
      "  8%|███▋                                        | 8/96 [01:04<11:49,  8.07s/it]Successfully saved to ../data/07_inference_data/masks/60x_images/AssayPlate_Greiner_#655090_C04_T0001F009L01A01Z01C01.tif\n",
      "  9%|████▏                                       | 9/96 [01:12<11:21,  7.83s/it]Successfully saved to ../data/07_inference_data/masks/60x_images/AssayPlate_Greiner_#655090_D04_T0001F004L01A01Z01C01.tif\n",
      " 10%|████▍                                      | 10/96 [01:19<11:06,  7.75s/it]Successfully saved to ../data/07_inference_data/masks/60x_images/AssayPlate_Greiner_#655090_D04_T0001F006L01A01Z01C01.tif\n",
      " 11%|████▉                                      | 11/96 [01:27<10:51,  7.67s/it]Successfully saved to ../data/07_inference_data/masks/60x_images/AssayPlate_Greiner_#655090_C02_T0001F003L01A01Z01C01.tif\n",
      " 12%|█████▍                                     | 12/96 [01:34<10:42,  7.65s/it]Successfully saved to ../data/07_inference_data/masks/60x_images/AssayPlate_Greiner_#655090_C02_T0001F001L01A01Z01C01.tif\n",
      " 14%|█████▊                                     | 13/96 [01:42<10:32,  7.62s/it]Successfully saved to ../data/07_inference_data/masks/60x_images/AssayPlate_Greiner_#655090_B04_T0001F002L01A01Z01C01.tif\n",
      " 15%|██████▎                                    | 14/96 [01:50<10:33,  7.73s/it]Successfully saved to ../data/07_inference_data/masks/60x_images/AssayPlate_Greiner_#655090_B04_T0001F003L01A01Z01C01.tif\n",
      " 16%|██████▋                                    | 15/96 [01:58<10:41,  7.92s/it]Successfully saved to ../data/07_inference_data/masks/60x_images/AssayPlate_Greiner_#655090_B04_T0001F001L01A01Z01C01.tif\n",
      " 17%|███████▏                                   | 16/96 [02:06<10:23,  7.80s/it]Successfully saved to ../data/07_inference_data/masks/60x_images/AssayPlate_Greiner_#655090_C02_T0001F002L01A01Z01C01.tif\n",
      " 18%|███████▌                                   | 17/96 [02:13<10:07,  7.69s/it]Successfully saved to ../data/07_inference_data/masks/60x_images/AssayPlate_Greiner_#655090_D04_T0001F007L01A01Z01C01.tif\n",
      " 19%|████████                                   | 18/96 [02:20<09:34,  7.37s/it]Successfully saved to ../data/07_inference_data/masks/60x_images/AssayPlate_Greiner_#655090_D04_T0001F005L01A01Z01C01.tif\n",
      " 20%|████████▌                                  | 19/96 [02:27<09:15,  7.21s/it]Successfully saved to ../data/07_inference_data/masks/60x_images/AssayPlate_Greiner_#655090_D02_T0001F007L01A01Z01C01.tif\n",
      " 21%|████████▉                                  | 20/96 [02:34<09:02,  7.14s/it]Successfully saved to ../data/07_inference_data/masks/60x_images/AssayPlate_Greiner_#655090_D02_T0001F005L01A01Z01C01.tif\n",
      " 22%|█████████▍                                 | 21/96 [02:41<08:51,  7.09s/it]Successfully saved to ../data/07_inference_data/masks/60x_images/AssayPlate_Greiner_#655090_C04_T0001F002L01A01Z01C01.tif\n",
      " 23%|█████████▊                                 | 22/96 [02:48<08:47,  7.13s/it]Successfully saved to ../data/07_inference_data/masks/60x_images/AssayPlate_Greiner_#655090_C04_T0001F003L01A01Z01C01.tif\n",
      " 24%|██████████▎                                | 23/96 [02:56<09:03,  7.45s/it]Successfully saved to ../data/07_inference_data/masks/60x_images/AssayPlate_Greiner_#655090_C04_T0001F001L01A01Z01C01.tif\n",
      " 25%|██████████▊                                | 24/96 [03:05<09:39,  8.05s/it]Successfully saved to ../data/07_inference_data/masks/60x_images/AssayPlate_Greiner_#655090_D02_T0001F006L01A01Z01C01.tif\n",
      " 26%|███████████▏                               | 25/96 [03:12<09:10,  7.75s/it]Successfully saved to ../data/07_inference_data/masks/60x_images/AssayPlate_Greiner_#655090_D02_T0001F004L01A01Z01C01.tif\n",
      " 27%|███████████▋                               | 26/96 [03:20<08:50,  7.58s/it]Successfully saved to ../data/07_inference_data/masks/60x_images/AssayPlate_Greiner_#655090_D04_T0001F010L01A01Z01C01.tif\n",
      " 28%|████████████                               | 27/96 [03:26<08:26,  7.34s/it]Successfully saved to ../data/07_inference_data/masks/60x_images/AssayPlate_Greiner_#655090_D04_T0001F012L01A01Z01C01.tif\n",
      " 29%|████████████▌                              | 28/96 [03:34<08:24,  7.42s/it]Successfully saved to ../data/07_inference_data/masks/60x_images/AssayPlate_Greiner_#655090_C03_T0001F009L01A01Z01C01.tif\n",
      " 30%|████████████▉                              | 29/96 [03:41<08:08,  7.29s/it]Successfully saved to ../data/07_inference_data/masks/60x_images/AssayPlate_Greiner_#655090_B03_T0001F008L01A01Z01C01.tif\n",
      " 31%|█████████████▍                             | 30/96 [03:49<08:07,  7.39s/it]Successfully saved to ../data/07_inference_data/masks/60x_images/AssayPlate_Greiner_#655090_D02_T0001F011L01A01Z01C01.tif\n",
      " 32%|█████████████▉                             | 31/96 [03:56<07:55,  7.32s/it]Successfully saved to ../data/07_inference_data/masks/60x_images/AssayPlate_Greiner_#655090_D02_T0001F010L01A01Z01C01.tif\n",
      " 33%|██████████████▎                            | 32/96 [04:03<07:46,  7.29s/it]Successfully saved to ../data/07_inference_data/masks/60x_images/AssayPlate_Greiner_#655090_D02_T0001F012L01A01Z01C01.tif\n",
      " 34%|██████████████▊                            | 33/96 [04:11<07:44,  7.37s/it]Successfully saved to ../data/07_inference_data/masks/60x_images/AssayPlate_Greiner_#655090_B03_T0001F009L01A01Z01C01.tif\n",
      " 35%|███████████████▏                           | 34/96 [04:17<07:21,  7.12s/it]Successfully saved to ../data/07_inference_data/masks/60x_images/AssayPlate_Greiner_#655090_D04_T0001F011L01A01Z01C01.tif\n",
      " 36%|███████████████▋                           | 35/96 [04:24<07:09,  7.04s/it]Successfully saved to ../data/07_inference_data/masks/60x_images/AssayPlate_Greiner_#655090_C03_T0001F008L01A01Z01C01.tif\n",
      " 38%|████████████████▏                          | 36/96 [04:30<06:50,  6.85s/it]Successfully saved to ../data/07_inference_data/masks/60x_images/AssayPlate_Greiner_#655090_C03_T0001F003L01A01Z01C01.tif\n",
      " 39%|████████████████▌                          | 37/96 [04:37<06:47,  6.91s/it]Successfully saved to ../data/07_inference_data/masks/60x_images/AssayPlate_Greiner_#655090_C03_T0001F002L01A01Z01C01.tif\n",
      " 40%|█████████████████                          | 38/96 [04:45<06:59,  7.22s/it]Successfully saved to ../data/07_inference_data/masks/60x_images/AssayPlate_Greiner_#655090_B03_T0001F003L01A01Z01C01.tif\n",
      " 41%|█████████████████▍                         | 39/96 [04:55<07:26,  7.83s/it]Successfully saved to ../data/07_inference_data/masks/60x_images/AssayPlate_Greiner_#655090_B03_T0001F001L01A01Z01C01.tif\n",
      " 42%|█████████████████▉                         | 40/96 [05:01<06:58,  7.48s/it]Successfully saved to ../data/07_inference_data/masks/60x_images/AssayPlate_Greiner_#655090_D03_T0001F007L01A01Z01C01.tif\n",
      " 43%|██████████████████▎                        | 41/96 [05:08<06:42,  7.31s/it]Successfully saved to ../data/07_inference_data/masks/60x_images/AssayPlate_Greiner_#655090_D03_T0001F005L01A01Z01C01.tif\n",
      " 44%|██████████████████▊                        | 42/96 [05:16<06:44,  7.49s/it]Successfully saved to ../data/07_inference_data/masks/60x_images/AssayPlate_Greiner_#655090_D03_T0001F004L01A01Z01C01.tif\n",
      " 45%|███████████████████▎                       | 43/96 [05:23<06:27,  7.32s/it]Successfully saved to ../data/07_inference_data/masks/60x_images/AssayPlate_Greiner_#655090_D03_T0001F006L01A01Z01C01.tif\n",
      " 46%|███████████████████▋                       | 44/96 [05:30<06:17,  7.26s/it]Successfully saved to ../data/07_inference_data/masks/60x_images/AssayPlate_Greiner_#655090_B03_T0001F002L01A01Z01C01.tif\n",
      " 47%|████████████████████▏                      | 45/96 [05:37<06:06,  7.18s/it]Successfully saved to ../data/07_inference_data/masks/60x_images/AssayPlate_Greiner_#655090_C03_T0001F001L01A01Z01C01.tif\n"
     ]
    },
    {
     "name": "stdout",
     "output_type": "stream",
     "text": [
      " 48%|████████████████████▌                      | 46/96 [05:44<06:00,  7.20s/it]Successfully saved to ../data/07_inference_data/masks/60x_images/AssayPlate_Greiner_#655090_C02_T0001F011L01A01Z01C01.tif\n",
      " 49%|█████████████████████                      | 47/96 [05:51<05:47,  7.09s/it]Successfully saved to ../data/07_inference_data/masks/60x_images/AssayPlate_Greiner_#655090_B04_T0001F010L01A01Z01C01.tif\n",
      " 50%|█████████████████████▌                     | 48/96 [05:58<05:35,  6.98s/it]Successfully saved to ../data/07_inference_data/masks/60x_images/AssayPlate_Greiner_#655090_B04_T0001F012L01A01Z01C01.tif\n",
      " 51%|█████████████████████▉                     | 49/96 [06:05<05:25,  6.92s/it]Successfully saved to ../data/07_inference_data/masks/60x_images/AssayPlate_Greiner_#655090_B04_T0001F011L01A01Z01C01.tif\n",
      " 52%|██████████████████████▍                    | 50/96 [06:11<05:14,  6.84s/it]Successfully saved to ../data/07_inference_data/masks/60x_images/AssayPlate_Greiner_#655090_C02_T0001F010L01A01Z01C01.tif\n",
      " 53%|██████████████████████▊                    | 51/96 [06:21<05:51,  7.80s/it]Successfully saved to ../data/07_inference_data/masks/60x_images/AssayPlate_Greiner_#655090_C02_T0001F012L01A01Z01C01.tif\n",
      " 54%|███████████████████████▎                   | 52/96 [06:29<05:44,  7.83s/it]Successfully saved to ../data/07_inference_data/masks/60x_images/AssayPlate_Greiner_#655090_C04_T0001F010L01A01Z01C01.tif\n",
      " 55%|███████████████████████▋                   | 53/96 [06:36<05:21,  7.47s/it]Successfully saved to ../data/07_inference_data/masks/60x_images/AssayPlate_Greiner_#655090_C04_T0001F012L01A01Z01C01.tif\n",
      " 56%|████████████████████████▏                  | 54/96 [06:46<05:46,  8.26s/it]Successfully saved to ../data/07_inference_data/masks/60x_images/AssayPlate_Greiner_#655090_D03_T0001F008L01A01Z01C01.tif\n",
      " 57%|████████████████████████▋                  | 55/96 [06:56<06:03,  8.86s/it]Successfully saved to ../data/07_inference_data/masks/60x_images/AssayPlate_Greiner_#655090_D03_T0001F009L01A01Z01C01.tif\n",
      " 58%|█████████████████████████                  | 56/96 [07:07<06:15,  9.39s/it]Successfully saved to ../data/07_inference_data/masks/60x_images/AssayPlate_Greiner_#655090_C04_T0001F011L01A01Z01C01.tif\n",
      " 59%|█████████████████████████▌                 | 57/96 [07:18<06:20,  9.77s/it]Successfully saved to ../data/07_inference_data/masks/60x_images/AssayPlate_Greiner_#655090_C03_T0001F007L01A01Z01C01.tif\n",
      " 60%|█████████████████████████▉                 | 58/96 [07:30<06:35, 10.42s/it]Successfully saved to ../data/07_inference_data/masks/60x_images/AssayPlate_Greiner_#655090_C03_T0001F005L01A01Z01C01.tif\n",
      " 61%|██████████████████████████▍                | 59/96 [07:40<06:21, 10.30s/it]Successfully saved to ../data/07_inference_data/masks/60x_images/AssayPlate_Greiner_#655090_C03_T0001F004L01A01Z01C01.tif\n",
      " 62%|██████████████████████████▉                | 60/96 [07:49<05:59,  9.99s/it]Successfully saved to ../data/07_inference_data/masks/60x_images/AssayPlate_Greiner_#655090_C03_T0001F006L01A01Z01C01.tif\n",
      " 64%|███████████████████████████▎               | 61/96 [07:56<05:19,  9.11s/it]Successfully saved to ../data/07_inference_data/masks/60x_images/AssayPlate_Greiner_#655090_D03_T0001F001L01A01Z01C01.tif\n",
      " 65%|███████████████████████████▊               | 62/96 [08:03<04:49,  8.51s/it]Successfully saved to ../data/07_inference_data/masks/60x_images/AssayPlate_Greiner_#655090_B03_T0001F005L01A01Z01C01.tif\n",
      " 66%|████████████████████████████▏              | 63/96 [08:10<04:24,  8.02s/it]Successfully saved to ../data/07_inference_data/masks/60x_images/AssayPlate_Greiner_#655090_B03_T0001F004L01A01Z01C01.tif\n",
      " 67%|████████████████████████████▋              | 64/96 [08:17<04:03,  7.62s/it]Successfully saved to ../data/07_inference_data/masks/60x_images/AssayPlate_Greiner_#655090_B03_T0001F006L01A01Z01C01.tif\n",
      " 68%|█████████████████████████████              | 65/96 [08:24<03:55,  7.60s/it]Successfully saved to ../data/07_inference_data/masks/60x_images/AssayPlate_Greiner_#655090_D03_T0001F002L01A01Z01C01.tif\n",
      " 69%|█████████████████████████████▌             | 66/96 [08:31<03:45,  7.50s/it]Successfully saved to ../data/07_inference_data/masks/60x_images/AssayPlate_Greiner_#655090_B03_T0001F007L01A01Z01C01.tif\n",
      " 70%|██████████████████████████████             | 67/96 [08:39<03:35,  7.41s/it]Successfully saved to ../data/07_inference_data/masks/60x_images/AssayPlate_Greiner_#655090_D03_T0001F003L01A01Z01C01.tif\n",
      " 71%|██████████████████████████████▍            | 68/96 [08:46<03:25,  7.34s/it]Successfully saved to ../data/07_inference_data/masks/60x_images/AssayPlate_Greiner_#655090_D04_T0001F009L01A01Z01C01.tif\n",
      " 72%|██████████████████████████████▉            | 69/96 [08:52<03:12,  7.13s/it]Successfully saved to ../data/07_inference_data/masks/60x_images/AssayPlate_Greiner_#655090_C03_T0001F011L01A01Z01C01.tif\n",
      " 73%|███████████████████████████████▎           | 70/96 [09:00<03:06,  7.18s/it]Successfully saved to ../data/07_inference_data/masks/60x_images/AssayPlate_Greiner_#655090_C03_T0001F010L01A01Z01C01.tif\n",
      " 74%|███████████████████████████████▊           | 71/96 [09:07<02:59,  7.17s/it]Successfully saved to ../data/07_inference_data/masks/60x_images/AssayPlate_Greiner_#655090_D04_T0001F008L01A01Z01C01.tif\n",
      " 75%|████████████████████████████████▎          | 72/96 [09:14<02:52,  7.18s/it]Successfully saved to ../data/07_inference_data/masks/60x_images/AssayPlate_Greiner_#655090_D02_T0001F008L01A01Z01C01.tif\n",
      " 76%|████████████████████████████████▋          | 73/96 [09:21<02:41,  7.03s/it]Successfully saved to ../data/07_inference_data/masks/60x_images/AssayPlate_Greiner_#655090_B03_T0001F011L01A01Z01C01.tif\n",
      " 77%|█████████████████████████████████▏         | 74/96 [09:28<02:37,  7.17s/it]Successfully saved to ../data/07_inference_data/masks/60x_images/AssayPlate_Greiner_#655090_B03_T0001F010L01A01Z01C01.tif\n",
      " 78%|█████████████████████████████████▌         | 75/96 [09:35<02:29,  7.11s/it]Successfully saved to ../data/07_inference_data/masks/60x_images/AssayPlate_Greiner_#655090_B03_T0001F012L01A01Z01C01.tif\n",
      " 79%|██████████████████████████████████         | 76/96 [09:42<02:22,  7.12s/it]Successfully saved to ../data/07_inference_data/masks/60x_images/AssayPlate_Greiner_#655090_D02_T0001F009L01A01Z01C01.tif\n",
      " 80%|██████████████████████████████████▍        | 77/96 [09:49<02:15,  7.11s/it]Successfully saved to ../data/07_inference_data/masks/60x_images/AssayPlate_Greiner_#655090_C03_T0001F012L01A01Z01C01.tif\n",
      " 81%|██████████████████████████████████▉        | 78/96 [09:57<02:09,  7.20s/it]Successfully saved to ../data/07_inference_data/masks/60x_images/AssayPlate_Greiner_#655090_B04_T0001F004L01A01Z01C01.tif\n",
      " 82%|███████████████████████████████████▍       | 79/96 [10:04<02:01,  7.17s/it]Successfully saved to ../data/07_inference_data/masks/60x_images/AssayPlate_Greiner_#655090_C02_T0001F007L01A01Z01C01.tif\n",
      " 83%|███████████████████████████████████▊       | 80/96 [10:11<01:53,  7.10s/it]Successfully saved to ../data/07_inference_data/masks/60x_images/AssayPlate_Greiner_#655090_C02_T0001F005L01A01Z01C01.tif\n",
      " 84%|████████████████████████████████████▎      | 81/96 [10:18<01:44,  6.97s/it]Successfully saved to ../data/07_inference_data/masks/60x_images/AssayPlate_Greiner_#655090_C02_T0001F004L01A01Z01C01.tif\n",
      " 85%|████████████████████████████████████▋      | 82/96 [10:24<01:36,  6.91s/it]Successfully saved to ../data/07_inference_data/masks/60x_images/AssayPlate_Greiner_#655090_D04_T0001F003L01A01Z01C01.tif\n",
      " 86%|█████████████████████████████████████▏     | 83/96 [10:35<01:42,  7.90s/it]Successfully saved to ../data/07_inference_data/masks/60x_images/AssayPlate_Greiner_#655090_D04_T0001F001L01A01Z01C01.tif\n",
      " 88%|█████████████████████████████████████▋     | 84/96 [10:43<01:37,  8.11s/it]Successfully saved to ../data/07_inference_data/masks/60x_images/AssayPlate_Greiner_#655090_B04_T0001F007L01A01Z01C01.tif\n",
      " 89%|██████████████████████████████████████     | 85/96 [10:53<01:35,  8.65s/it]Successfully saved to ../data/07_inference_data/masks/60x_images/AssayPlate_Greiner_#655090_B04_T0001F005L01A01Z01C01.tif\n",
      " 90%|██████████████████████████████████████▌    | 86/96 [11:03<01:30,  9.06s/it]Successfully saved to ../data/07_inference_data/masks/60x_images/AssayPlate_Greiner_#655090_D02_T0001F003L01A01Z01C01.tif\n"
     ]
    },
    {
     "name": "stdout",
     "output_type": "stream",
     "text": [
      " 91%|██████████████████████████████████████▉    | 87/96 [11:14<01:25,  9.49s/it]Successfully saved to ../data/07_inference_data/masks/60x_images/AssayPlate_Greiner_#655090_D02_T0001F001L01A01Z01C01.tif\n",
      " 92%|███████████████████████████████████████▍   | 88/96 [11:22<01:13,  9.17s/it]Successfully saved to ../data/07_inference_data/masks/60x_images/AssayPlate_Greiner_#655090_C04_T0001F004L01A01Z01C01.tif\n",
      " 93%|███████████████████████████████████████▊   | 89/96 [11:31<01:03,  9.13s/it]Successfully saved to ../data/07_inference_data/masks/60x_images/AssayPlate_Greiner_#655090_C04_T0001F006L01A01Z01C01.tif\n",
      " 94%|████████████████████████████████████████▎  | 90/96 [11:38<00:51,  8.60s/it]Successfully saved to ../data/07_inference_data/masks/60x_images/AssayPlate_Greiner_#655090_C04_T0001F007L01A01Z01C01.tif\n",
      " 95%|████████████████████████████████████████▊  | 91/96 [11:47<00:42,  8.46s/it]Successfully saved to ../data/07_inference_data/masks/60x_images/AssayPlate_Greiner_#655090_C04_T0001F005L01A01Z01C01.tif\n",
      " 96%|█████████████████████████████████████████▏ | 92/96 [11:55<00:34,  8.54s/it]Successfully saved to ../data/07_inference_data/masks/60x_images/AssayPlate_Greiner_#655090_D02_T0001F002L01A01Z01C01.tif\n",
      " 97%|█████████████████████████████████████████▋ | 93/96 [12:02<00:24,  8.12s/it]Successfully saved to ../data/07_inference_data/masks/60x_images/AssayPlate_Greiner_#655090_C02_T0001F006L01A01Z01C01.tif\n",
      " 98%|██████████████████████████████████████████ | 94/96 [12:09<00:15,  7.70s/it]Successfully saved to ../data/07_inference_data/masks/60x_images/AssayPlate_Greiner_#655090_D04_T0001F002L01A01Z01C01.tif\n",
      " 99%|██████████████████████████████████████████▌| 95/96 [12:17<00:07,  7.67s/it]Successfully saved to ../data/07_inference_data/masks/60x_images/AssayPlate_Greiner_#655090_B04_T0001F006L01A01Z01C01.tif\n",
      "100%|███████████████████████████████████████████| 96/96 [12:24<00:00,  7.76s/it]\n"
     ]
    }
   ],
   "source": [
    "input_dir = \"../data/07_inference_data/input/20x_images\"\n",
    "output_dir = \"../data/07_inference_data/masks/20x_images\"\n",
    "!python ../src/predict_segmentation.py --input-dir $input_dir --output-dir $output_dir --weights_path $weights_path_A1_mask\n",
    "\n",
    "input_dir = \"../data/07_inference_data/input/40x_images\"\n",
    "output_dir = \"../data/07_inference_data/masks/40x_images\"\n",
    "!python ../src/predict_segmentation.py --input-dir $input_dir --output-dir $output_dir --weights_path $weights_path_A1_mask\n",
    "\n",
    "input_dir = \"../data/07_inference_data/input/60x_images\"\n",
    "output_dir = \"../data/07_inference_data/masks/60x_images\"\n",
    "!python ../src/predict_segmentation.py --input-dir $input_dir --output-dir $output_dir --weights_path $weights_path_A1_mask"
   ]
  },
  {
   "cell_type": "code",
   "execution_count": null,
   "metadata": {},
   "outputs": [],
   "source": [
    "#weights_path_A1 = \"../../data/05_saved_models/normalized_bias/A1_g_best.pth\" # Without mask input\n",
    "weights_path_A1 = \"../../data/05_saved_models/normalized_bias/A1_g_best_wmask.pth\" \n",
    "\n",
    "input_dir = \"../data/07_inference_data/input/20x_images\"\n",
    "mask_dir = \"../data/07_inference_data/masks/20x_images\"\n",
    "output_dir = \"../data/04_generated_images/inference_results/20x_images\"\n",
    "!python ../src/predict.py --mask --mask-dir $mask_dir --target A1 --input-dir $input_dir  --output-dir $output_dir --weights $weights_path_A1 --mag 20x --match-histogram\n",
    "\n",
    "input_dir = \"../data/07_inference_data/input/40x_images\"\n",
    "mask_dir = \"../data/07_inference_data/masks/40x_images\"\n",
    "output_dir = \"../data/04_generated_images/inference_results/40x_images\"\n",
    "!python ../src/predict.py --mask --mask-dir $mask_dir --target A1 --input-dir $input_dir  --output-dir $output_dir --weights $weights_path_A1 --mag 40x --match-histogram\n",
    "\n",
    "input_dir = \"../data/07_inference_data/input/60x_images\"\n",
    "mask_dir = \"../data/07_inference_data/masks/60x_images\"\n",
    "output_dir = \"../data/04_generated_images/inference_results/60x_images\"\n",
    "!python ../src/predict.py --mask --mask-dir $mask_dir --target A1 --input-dir $input_dir  --output-dir $output_dir --weights $weights_path_A1 --mag 60x --match-histogram\n"
   ]
  },
  {
   "cell_type": "code",
   "execution_count": null,
   "metadata": {},
   "outputs": [],
   "source": [
    "weights_path_A2 = \"../../data/05_saved_models/normalized_bias/A2_g_best.pth\"\n",
    "\n",
    "input_dir = \"../data/07_inference_data/input/20x_images\"\n",
    "output_dir = \"../data/04_generated_images/inference_results/20x_images\"\n",
    "!python ../src/predict.py --target A2 --input-dir $input_dir  --output-dir $output_dir --weights $weights_path_A2 --mag 20x --match-histogram\n",
    "\n",
    "input_dir = \"../data/07_inference_data/input/40x_images\"\n",
    "output_dir = \"../data/04_generated_images/inference_results/40x_images\"\n",
    "!python ../src/predict.py --target A2 --input-dir $input_dir  --output-dir $output_dir --weights $weights_path_A2 --mag 40x --match-histogram\n",
    "\n",
    "input_dir = \"../data/07_inference_data/input/60x_images\"\n",
    "output_dir = \"../data/04_generated_images/inference_results/60x_images\"\n",
    "!python ../src/predict.py --target A2 --input-dir $input_dir  --output-dir $output_dir --weights $weights_path_A2 --mag 60x --match-histogram\n"
   ]
  },
  {
   "cell_type": "code",
   "execution_count": null,
   "metadata": {},
   "outputs": [],
   "source": [
    "weights_path_A3 = \"../../data/05_saved_models/normalized_bias/A3_g_best.pth\"\n",
    "\n",
    "input_dir = \"../data/07_inference_data/input/20x_images\"\n",
    "output_dir = \"../data/04_generated_images/inference_results/20x_images\"\n",
    "!python ../src/predict.py --target A3 --input-dir $input_dir  --output-dir $output_dir --weights $weights_path_A3 --mag 20x --match-histogram\n",
    "\n",
    "input_dir = \"../data/07_inference_data/input/40x_images\"\n",
    "output_dir = \"../data/04_generated_images/inference_results/40x_images\"\n",
    "!python ../src/predict.py --target A3 --input-dir $input_dir  --output-dir $output_dir --weights $weights_path_A3 --mag 40x --match-histogram\n",
    "\n",
    "input_dir = \"../data/07_inference_data/input/60x_images\"\n",
    "output_dir = \"../data/04_generated_images/inference_results/60x_images\"\n",
    "!python ../src/predict.py --target A3 --input-dir $input_dir  --output-dir $output_dir --weights $weights_path_A3 --mag 60x --match-histogram\n"
   ]
  },
  {
   "cell_type": "code",
   "execution_count": null,
   "metadata": {},
   "outputs": [],
   "source": [
    "# Example of working pipeline\n",
    "\"\"\"\n",
    "for mag in [\"20x\", \"40x\", \"60x\"]:\n",
    "    input_dir = f\"../../data/03_training_data/normalized_bias/valid/input/{mag}_images\"\n",
    "    output_dir = f\"../../data/04_generated_images/valid_inference_results/{mag}_images\"\n",
    "    !python ../../src/predict.py --target A01 --input-dir $input_dir  --output-dir $output_dir --weights $weights_path_A1 --mag {mag} --match-histogram\n",
    "\n",
    "                       \n",
    "for mag in [\"20x\", \"40x\", \"60x\"]:\n",
    "    input_dir = f\"../../data/03_training_data/normalized_bias/valid/input/{mag}_images\"\n",
    "    output_dir = f\"../../data/04_generated_images/valid_inference_results/{mag}_images\"\n",
    "    !python ../../src/predict.py --target A02 --input-dir $input_dir  --output-dir $output_dir --weights $weights_path_A2 --mag {mag} --match-histogram\n",
    "                       \n",
    "\n",
    "for mag in [\"20x\", \"40x\", \"60x\"]:\n",
    "    input_dir = f\"../../data/03_training_data/normalized_bias/valid/input/{mag}_images\"\n",
    "    output_dir = f\"../../data/04_generated_images/valid_inference_results/{mag}_images\"\n",
    "    !python ../../src/predict.py --target A03 --input-dir $input_dir  --output-dir $output_dir --weights $weights_path_A3 --mag {mag} --match-histogram\n",
    "\"\"\""
   ]
  },
  {
   "cell_type": "code",
   "execution_count": null,
   "metadata": {},
   "outputs": [],
   "source": []
  }
 ],
 "metadata": {
  "kernelspec": {
   "display_name": "Python 3",
   "language": "python",
   "name": "python3"
  },
  "language_info": {
   "codemirror_mode": {
    "name": "ipython",
    "version": 3
   },
   "file_extension": ".py",
   "mimetype": "text/x-python",
   "name": "python",
   "nbconvert_exporter": "python",
   "pygments_lexer": "ipython3",
   "version": "3.6.10"
  }
 },
 "nbformat": 4,
 "nbformat_minor": 4
}
