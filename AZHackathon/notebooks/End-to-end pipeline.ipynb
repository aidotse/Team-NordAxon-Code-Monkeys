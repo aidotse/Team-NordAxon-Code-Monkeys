{
 "cells": [
  {
   "cell_type": "markdown",
   "metadata": {},
   "source": [
    "# This notebook will facilitate the end-to-end usage of the NordAxon Code Monkeys solution to the Adipocyte Imaging Challenge"
   ]
  },
  {
   "cell_type": "markdown",
   "metadata": {},
   "source": [
    "## Depending on your file structure, you will run different commandos.\n",
    "### These will all be explained below."
   ]
  },
  {
   "cell_type": "markdown",
   "metadata": {},
   "source": [
    "If your file structure corresponds to the following (target and mask folders are optional):\n",
    "\n",
    "- Data dir\n",
    "    - input\n",
    "        - 20x\n",
    "            - img1\n",
    "            - img2\n",
    "            - ...\n",
    "        - 40x\n",
    "            - ...\n",
    "        - 60x\n",
    "            - ...\n",
    "    - target\n",
    "        - 20x\n",
    "        - 40x\n",
    "        - 60x\n",
    "    - masks\n",
    "        - 20x\n",
    "        - 40x\n",
    "        - 60x\n",
    "    \n",
    "Run the cells below:"
   ]
  },
  {
   "cell_type": "code",
   "execution_count": null,
   "metadata": {},
   "outputs": [],
   "source": [
    "!python print_hello.py --input-dir \"path_to_test\" --output-dir \"path_to_preprocessed_data_dir\""
   ]
  },
  {
   "cell_type": "markdown",
   "metadata": {},
   "source": [
    "And if your file structure corresponds to this format (target and mask folders still optional):\n",
    "\n",
    "- Data dir\n",
    "    - 20x\n",
    "        - Input\n",
    "            - img1\n",
    "            - img2\n",
    "            - ...\n",
    "        - Target\n",
    "            - ...\n",
    "        - Masks\n",
    "            - ...\n",
    "    - 40x\n",
    "        - Input\n",
    "        - Target\n",
    "        - Masks\n",
    "    - 60x\n",
    "        - Input\n",
    "        - Target\n",
    "        - Masks\n",
    "    \n",
    "Run the cells below:"
   ]
  },
  {
   "cell_type": "code",
   "execution_count": null,
   "metadata": {},
   "outputs": [],
   "source": []
  }
 ],
 "metadata": {
  "kernelspec": {
   "display_name": "Python 3",
   "language": "python",
   "name": "python3"
  },
  "language_info": {
   "codemirror_mode": {
    "name": "ipython",
    "version": 3
   },
   "file_extension": ".py",
   "mimetype": "text/x-python",
   "name": "python",
   "nbconvert_exporter": "python",
   "pygments_lexer": "ipython3",
   "version": "3.6.10"
  }
 },
 "nbformat": 4,
 "nbformat_minor": 4
}
